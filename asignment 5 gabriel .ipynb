{
 "cells": [
  {
   "cell_type": "code",
   "execution_count": 1,
   "id": "061c3999",
   "metadata": {},
   "outputs": [],
   "source": [
    "import matplotlib.image as mpimg\n",
    "\n",
    "import pandas as pd\n",
    "import matplotlib.pyplot as plt\n",
    "from sklearn.model_selection import train_test_split\n",
    "from sklearn.metrics import accuracy_score\n",
    "import numpy as np\n"
   ]
  },
  {
   "cell_type": "markdown",
   "id": "dc0d9054",
   "metadata": {},
   "source": [
    "A) Download the dataset “Digit” and its label from this link:  https://app.box.com/s/sogk96kukv6ayyyy6ym63a2nu3aozif7Links to an external site.\n",
    "\n",
    "Check out the dataset. It includes 1797 small images (8x8 pixels), each one includes a hand-written digit (0-9). You have to download the corresponding csv file that includes the labels of the images. The goal is to build a Machine Learning Algorithm that can recognize the hand-written digits!\n",
    "\n",
    "Import the following two libraries to work with images:\n",
    "\n",
    "import matplotlib.image as mpimg\n",
    "\n",
    "import matplotlib.pyplot as plt\n",
    "\n",
    "you can use:\n",
    "\n",
    "mpimg.imread(file_name)   to load an image, and\n",
    "\n",
    "plt.imshow(image_name, cmap=plt.cm.gray_r, interpolation='nearest')  to show an image.\n",
    "\n",
    "Add   %matplotlib inline   at top of your code to make sure that the images will be shown inside the Jupyter explorer page."
   ]
  },
  {
   "cell_type": "code",
   "execution_count": 2,
   "id": "0350943d",
   "metadata": {
    "scrolled": true
   },
   "outputs": [],
   "source": [
    "\n",
    "\n",
    "labels = pd.read_csv('label.csv')\n",
    "\n"
   ]
  },
  {
   "cell_type": "markdown",
   "id": "f72f48d2",
   "metadata": {},
   "source": [
    "B) Build the feature matrix and label vector: Each image is considered as a data sample with pixels as features. Thus, to build the feature table you have to convert each 8x8 image into an array of 64 elements (i.e. 64 pixels), and put it as a row of the feature matrix with 64 feature columns."
   ]
  },
  {
   "cell_type": "code",
   "execution_count": 3,
   "id": "2d4e8226",
   "metadata": {},
   "outputs": [
    {
     "name": "stdout",
     "output_type": "stream",
     "text": [
      "[[  0   2  88 217 158  21   0   0]\n",
      " [ 16   0 228 236 166 253  95   0]\n",
      " [  0  41 255  44  11 182 132   3]\n",
      " [ 11  80 220   0   2 143 133   5]\n",
      " [  6  71 122   0   5 155 140   0]\n",
      " [  0  76 194   0  26 207 105  15]\n",
      " [  0  18 255  83 146 211   4   0]\n",
      " [  4   3  87 228 182   0   9   2]]\n"
     ]
    }
   ],
   "source": [
    "images=[]\n",
    "for i in range(1797):\n",
    "    img = mpimg.imread( str(i) + '.jpg')\n",
    "\n",
    "    images.append(img)\n",
    "    \n",
    "print(images[0])"
   ]
  },
  {
   "cell_type": "code",
   "execution_count": 4,
   "id": "53c1fb44",
   "metadata": {},
   "outputs": [],
   "source": [
    "\n",
    "#plt.imshow(mpimg.imread('0.jpg'), cmap=plt.cm.gray_r, interpolation='nearest') \n",
    "# plt.imshow(images[1796], cmap=plt.cm.gray_r, interpolation='nearest') "
   ]
  },
  {
   "cell_type": "code",
   "execution_count": 5,
   "id": "b02c0fb5",
   "metadata": {},
   "outputs": [],
   "source": [
    "#B \n"
   ]
  },
  {
   "cell_type": "code",
   "execution_count": 6,
   "id": "862e93fc",
   "metadata": {},
   "outputs": [],
   "source": [
    "from sklearn import datasets \n"
   ]
  },
  {
   "cell_type": "code",
   "execution_count": null,
   "id": "fa36d3bb",
   "metadata": {},
   "outputs": [],
   "source": []
  },
  {
   "cell_type": "markdown",
   "id": "d4cc22eb",
   "metadata": {},
   "source": [
    "C) Use sklearn functions to split the dataset into testing and training sets with the following parameters: test_size=0.1, random_state=2.\n"
   ]
  },
  {
   "cell_type": "code",
   "execution_count": 7,
   "id": "83c352be",
   "metadata": {},
   "outputs": [],
   "source": [
    "\n",
    "from   sklearn.ensemble    import    RandomForestClassifier\n",
    "\n",
    "X = np.array([imagesstuff.flatten() for imagesstuff in images])\n",
    "y = labels['digit label']\n",
    "\n",
    "X_train, X_test, y_train, y_test = train_test_split(X , y, test_size=0.1, random_state=2)\n"
   ]
  },
  {
   "cell_type": "markdown",
   "id": "9d1d2c22",
   "metadata": {},
   "source": [
    "D) Use scikit-learn “Random Forest” classifier to recognize the hand-written digits based on the training/testing datasets that you built in part (c). Use this command to import and define your classifier:\n",
    "\n",
    "from   sklearn.ensemble    import    RandomForestClassifier\n",
    "\n",
    "my_RandomForest =\n",
    "\n",
    "RandomForestClassifier(n_estimators = 19, bootstrap = True, random_state=2)\n",
    "\n",
    "Use my_RandomForest.fit for training your random forest classifier and my_RandomForest.predict  for prediction. Test your Machine Learning Algorithm on testing set (from part(c)), and calculate and report the accuracy."
   ]
  },
  {
   "cell_type": "code",
   "execution_count": 8,
   "id": "e0ae187e",
   "metadata": {},
   "outputs": [
    {
     "data": {
      "text/plain": [
       "RandomForestClassifier(n_estimators=19, random_state=2)"
      ]
     },
     "execution_count": 8,
     "metadata": {},
     "output_type": "execute_result"
    }
   ],
   "source": [
    "my_RandomForest = RandomForestClassifier(n_estimators = 19, bootstrap = True, random_state=2)\n",
    "my_RandomForest.fit(X_train, y_train)"
   ]
  },
  {
   "cell_type": "code",
   "execution_count": 9,
   "id": "66a06a37",
   "metadata": {},
   "outputs": [
    {
     "name": "stdout",
     "output_type": "stream",
     "text": [
      "0.9277777777777778\n"
     ]
    }
   ],
   "source": [
    "predicted = my_RandomForest.predict(X_test)\n",
    "\n",
    "score = accuracy_score(y_test,predicted)\n",
    "print(score)"
   ]
  },
  {
   "cell_type": "markdown",
   "id": "b1a69de5",
   "metadata": {},
   "source": [
    "E) Write some codes to find which one of the data samples (i.e. which images) have been misclassified (classified incorrectly) in your testing set. Then, use the following command to show the misclassified images:    plt.imshow(image_name, cmap=plt.cm.gray_r, interpolation='nearest')  "
   ]
  },
  {
   "cell_type": "code",
   "execution_count": 10,
   "id": "81d0ec2f",
   "metadata": {},
   "outputs": [
    {
     "name": "stdout",
     "output_type": "stream",
     "text": [
      "[  4  16  41  44  45  49  63  66 115 130 137 165 174]\n"
     ]
    }
   ],
   "source": [
    "wrong_values = np.where(predicted != y_test)[0]\n",
    "print(wrong_values)"
   ]
  },
  {
   "cell_type": "code",
   "execution_count": 11,
   "id": "493fbdbc",
   "metadata": {},
   "outputs": [
    {
     "name": "stdout",
     "output_type": "stream",
     "text": [
      "154     4\n",
      "564     0\n",
      "1444    9\n",
      "1394    1\n",
      "1660    4\n",
      "       ..\n",
      "458     0\n",
      "68      4\n",
      "825     0\n",
      "1153    0\n",
      "1095    4\n",
      "Name: digit label, Length: 180, dtype: int64\n"
     ]
    }
   ],
   "source": [
    "\n",
    "# print(y_test['digit label'])\n",
    "print(y_test)\n"
   ]
  },
  {
   "cell_type": "code",
   "execution_count": 12,
   "id": "eedbec74",
   "metadata": {},
   "outputs": [
    {
     "name": "stdout",
     "output_type": "stream",
     "text": [
      "[4 0 9 1 8 7 1 5 1 6 6 7 6 1 5 5 7 6 2 7 4 6 4 1 5 2 9 5 4 6 5 6 3 4 0 9 9\n",
      " 8 4 6 8 1 5 7 5 4 9 6 1 7 0 1 9 7 3 3 1 1 8 8 9 8 5 7 4 7 2 5 8 4 3 1 3 8\n",
      " 7 3 3 0 8 7 2 8 5 3 8 7 6 4 6 2 2 0 1 1 5 3 5 7 6 8 2 2 6 4 6 7 3 7 3 9 4\n",
      " 7 0 3 5 1 5 0 3 9 2 7 3 2 0 8 1 9 2 1 5 1 0 3 4 3 0 7 3 2 2 7 3 1 6 7 2 8\n",
      " 3 1 1 6 4 8 2 1 8 4 1 3 1 1 9 5 4 5 7 4 8 9 5 7 6 9 4 0 4 0 0 4]\n"
     ]
    }
   ],
   "source": [
    "print(predicted)"
   ]
  },
  {
   "cell_type": "code",
   "execution_count": 14,
   "id": "4895191a",
   "metadata": {},
   "outputs": [
    {
     "data": {
      "image/png": "[encoded data removed]",
      "text/plain": [
       "<Figure size 432x288 with 1 Axes>"
      ]
     },
     "metadata": {
      "needs_background": "light"
     },
     "output_type": "display_data"
    },
    {
     "name": "stdout",
     "output_type": "stream",
     "text": [
      "4\n"
     ]
    },
    {
     "data": {
      "image/png": "[encoded data removed]",
      "text/plain": [
       "<Figure size 432x288 with 1 Axes>"
      ]
     },
     "metadata": {
      "needs_background": "light"
     },
     "output_type": "display_data"
    },
    {
     "name": "stdout",
     "output_type": "stream",
     "text": [
      "16\n"
     ]
    },
    {
     "data": {
      "image/png": "[encoded data removed]",
      "text/plain": [
       "<Figure size 432x288 with 1 Axes>"
      ]
     },
     "metadata": {
      "needs_background": "light"
     },
     "output_type": "display_data"
    },
    {
     "name": "stdout",
     "output_type": "stream",
     "text": [
      "41\n"
     ]
    },
    {
     "data": {
      "image/png": "[encoded data removed]",
      "text/plain": [
       "<Figure size 432x288 with 1 Axes>"
      ]
     },
     "metadata": {
      "needs_background": "light"
     },
     "output_type": "display_data"
    },
    {
     "name": "stdout",
     "output_type": "stream",
     "text": [
      "44\n"
     ]
    },
    {
     "data": {
      "image/png": "[encoded data removed]",
      "text/plain": [
       "<Figure size 432x288 with 1 Axes>"
      ]
     },
     "metadata": {
      "needs_background": "light"
     },
     "output_type": "display_data"
    },
    {
     "name": "stdout",
     "output_type": "stream",
     "text": [
      "45\n"
     ]
    },
    {
     "data": {
      "image/png": "[encoded data removed]",
      "text/plain": [
       "<Figure size 432x288 with 1 Axes>"
      ]
     },
     "metadata": {
      "needs_background": "light"
     },
     "output_type": "display_data"
    },
    {
     "name": "stdout",
     "output_type": "stream",
     "text": [
      "49\n"
     ]
    },
    {
     "data": {
      "image/png": "[encoded data removed]",
      "text/plain": [
       "<Figure size 432x288 with 1 Axes>"
      ]
     },
     "metadata": {
      "needs_background": "light"
     },
     "output_type": "display_data"
    },
    {
     "name": "stdout",
     "output_type": "stream",
     "text": [
      "63\n"
     ]
    },
    {
     "data": {
      "image/png": "[encoded data removed]",
      "text/plain": [
       "<Figure size 432x288 with 1 Axes>"
      ]
     },
     "metadata": {
      "needs_background": "light"
     },
     "output_type": "display_data"
    },
    {
     "name": "stdout",
     "output_type": "stream",
     "text": [
      "66\n"
     ]
    },
    {
     "data": {
      "image/png": "[encoded data removed]",
      "text/plain": [
       "<Figure size 432x288 with 1 Axes>"
      ]
     },
     "metadata": {
      "needs_background": "light"
     },
     "output_type": "display_data"
    },
    {
     "name": "stdout",
     "output_type": "stream",
     "text": [
      "115\n"
     ]
    },
    {
     "data": {
      "image/png": "[encoded data removed]",
      "text/plain": [
       "<Figure size 432x288 with 1 Axes>"
      ]
     },
     "metadata": {
      "needs_background": "light"
     },
     "output_type": "display_data"
    },
    {
     "name": "stdout",
     "output_type": "stream",
     "text": [
      "130\n"
     ]
    },
    {
     "data": {
      "image/png": "[encoded data removed]",
      "text/plain": [
       "<Figure size 432x288 with 1 Axes>"
      ]
     },
     "metadata": {
      "needs_background": "light"
     },
     "output_type": "display_data"
    },
    {
     "name": "stdout",
     "output_type": "stream",
     "text": [
      "137\n"
     ]
    },
    {
     "data": {
      "image/png": "[encoded data removed]",
      "text/plain": [
       "<Figure size 432x288 with 1 Axes>"
      ]
     },
     "metadata": {
      "needs_background": "light"
     },
     "output_type": "display_data"
    },
    {
     "name": "stdout",
     "output_type": "stream",
     "text": [
      "165\n"
     ]
    },
    {
     "data": {
      "image/png": "[encoded data removed]",
      "text/plain": [
       "<Figure size 432x288 with 1 Axes>"
      ]
     },
     "metadata": {
      "needs_background": "light"
     },
     "output_type": "display_data"
    },
    {
     "name": "stdout",
     "output_type": "stream",
     "text": [
      "174\n"
     ]
    }
   ],
   "source": [
    "%matplotlib inline  \n",
    "for index in wrong_values:\n",
    "    plt.imshow(X_test[index].reshape(8, 8), cmap=plt.cm.gray_r, interpolation='nearest')\n",
    "    plt.title(\"Predicted: {}, Actual: {}\".format(predicted[index], y_test.iloc[index]))\n",
    "    plt.show()\n",
    "    print(index)"
   ]
  },
  {
   "cell_type": "markdown",
   "id": "ea0a066e",
   "metadata": {},
   "source": [
    "## "
   ]
  }
 ],
 "metadata": {
  "kernelspec": {
   "display_name": "Python 3 (ipykernel)",
   "language": "python",
   "name": "python3"
  },
  "language_info": {
   "codemirror_mode": {
    "name": "ipython",
    "version": 3
   },
   "file_extension": ".py",
   "mimetype": "text/x-python",
   "name": "python",
   "nbconvert_exporter": "python",
   "pygments_lexer": "ipython3",
   "version": "3.9.12"
  }
 },
 "nbformat": 4,
 "nbformat_minor": 5
}
